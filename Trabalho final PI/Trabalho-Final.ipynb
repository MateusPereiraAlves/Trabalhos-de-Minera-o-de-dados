{
  "nbformat": 4,
  "nbformat_minor": 0,
  "metadata": {
    "colab": {
      "provenance": []
    },
    "kernelspec": {
      "name": "python3",
      "display_name": "Python 3"
    },
    "language_info": {
      "name": "python"
    }
  },
  "cells": [
    {
      "cell_type": "code",
      "execution_count": 1,
      "metadata": {
        "id": "xgfB_ftXnD8s"
      },
      "outputs": [],
      "source": [
        "import pandas as pd\n",
        "import matplotlib.pyplot as plt\n",
        "import seaborn as sns\n",
        "from sklearn.impute import KNNImputer\n",
        "from sklearn.linear_model import LinearRegression\n",
        "import numpy as np\n",
        "from sklearn.preprocessing import LabelEncoder\n",
        "from sklearn.neighbors import KNeighborsClassifier\n",
        "from sklearn.model_selection import KFold, train_test_split\n",
        "from sklearn.metrics import classification_report\n",
        "from sklearn.metrics import mean_squared_error\n",
        "from sklearn.neighbors import KNeighborsRegressor\n",
        "import matplotlib.pyplot as plt\n",
        "from sklearn.preprocessing import OneHotEncoder"
      ]
    },
    {
      "cell_type": "code",
      "source": [
        "\"\"\"\n",
        "  Importamos a base de dados abalone após ser tratada e nomeamos suas colunas.\n",
        "\"\"\"\n",
        "\n",
        "colnames = ['Sex', 'Length', 'Diameter', 'Height', 'Whole weight',\n",
        "            'Shucked weight', 'Viscera weight', 'Shell weight', 'Rings']\n",
        "abalone = pd.read_csv(\"abaloneTratado.csv\", sep=',')\n",
        "abalone"
      ],
      "metadata": {
        "colab": {
          "base_uri": "https://localhost:8080/",
          "height": 424
        },
        "id": "NKNKmjoBnG_p",
        "outputId": "c1ce3c17-8f36-4fad-d39e-e18058c552cb"
      },
      "execution_count": null,
      "outputs": [
        {
          "output_type": "execute_result",
          "data": {
            "text/plain": [
              "     Sex  Length  Diameter  Height  Whole weight  Shucked weight  \\\n",
              "0      M   0.455     0.365   0.095        0.5140          0.2245   \n",
              "1      M   0.350     0.265   0.090        0.2255          0.0995   \n",
              "2      F   0.530     0.420   0.135        0.6770          0.2565   \n",
              "3      M   0.440     0.365   0.125        0.5160          0.2155   \n",
              "4      I   0.330     0.255   0.080        0.2050          0.0895   \n",
              "...   ..     ...       ...     ...           ...             ...   \n",
              "4106   F   0.565     0.450   0.165        0.8870          0.3700   \n",
              "4107   I   0.590     0.440   0.135        0.9660          0.4390   \n",
              "4108   I   0.600     0.475   0.205        1.1760          0.5255   \n",
              "4109   M   0.625     0.485   0.150        1.0945          0.5310   \n",
              "4110   M   0.710     0.555   0.195        1.9485          0.9455   \n",
              "\n",
              "      Viscera weight  Shell weight  Rings  \n",
              "0             0.1010        0.1500   15.0  \n",
              "1             0.0485        0.0700    7.0  \n",
              "2             0.1415        0.2100    9.0  \n",
              "3             0.1140        0.1550   10.0  \n",
              "4             0.0395        0.0550    7.0  \n",
              "...              ...           ...    ...  \n",
              "4106          0.2390        0.2490   11.0  \n",
              "4107          0.2145        0.2605   10.0  \n",
              "4108          0.2875        0.3080    9.0  \n",
              "4109          0.2610        0.2960   10.0  \n",
              "4110          0.3765        0.4950   12.0  \n",
              "\n",
              "[4111 rows x 9 columns]"
            ],
            "text/html": [
              "\n",
              "  <div id=\"df-56530a7e-5a15-4df7-b6c4-a4f10d424766\">\n",
              "    <div class=\"colab-df-container\">\n",
              "      <div>\n",
              "<style scoped>\n",
              "    .dataframe tbody tr th:only-of-type {\n",
              "        vertical-align: middle;\n",
              "    }\n",
              "\n",
              "    .dataframe tbody tr th {\n",
              "        vertical-align: top;\n",
              "    }\n",
              "\n",
              "    .dataframe thead th {\n",
              "        text-align: right;\n",
              "    }\n",
              "</style>\n",
              "<table border=\"1\" class=\"dataframe\">\n",
              "  <thead>\n",
              "    <tr style=\"text-align: right;\">\n",
              "      <th></th>\n",
              "      <th>Sex</th>\n",
              "      <th>Length</th>\n",
              "      <th>Diameter</th>\n",
              "      <th>Height</th>\n",
              "      <th>Whole weight</th>\n",
              "      <th>Shucked weight</th>\n",
              "      <th>Viscera weight</th>\n",
              "      <th>Shell weight</th>\n",
              "      <th>Rings</th>\n",
              "    </tr>\n",
              "  </thead>\n",
              "  <tbody>\n",
              "    <tr>\n",
              "      <th>0</th>\n",
              "      <td>M</td>\n",
              "      <td>0.455</td>\n",
              "      <td>0.365</td>\n",
              "      <td>0.095</td>\n",
              "      <td>0.5140</td>\n",
              "      <td>0.2245</td>\n",
              "      <td>0.1010</td>\n",
              "      <td>0.1500</td>\n",
              "      <td>15.0</td>\n",
              "    </tr>\n",
              "    <tr>\n",
              "      <th>1</th>\n",
              "      <td>M</td>\n",
              "      <td>0.350</td>\n",
              "      <td>0.265</td>\n",
              "      <td>0.090</td>\n",
              "      <td>0.2255</td>\n",
              "      <td>0.0995</td>\n",
              "      <td>0.0485</td>\n",
              "      <td>0.0700</td>\n",
              "      <td>7.0</td>\n",
              "    </tr>\n",
              "    <tr>\n",
              "      <th>2</th>\n",
              "      <td>F</td>\n",
              "      <td>0.530</td>\n",
              "      <td>0.420</td>\n",
              "      <td>0.135</td>\n",
              "      <td>0.6770</td>\n",
              "      <td>0.2565</td>\n",
              "      <td>0.1415</td>\n",
              "      <td>0.2100</td>\n",
              "      <td>9.0</td>\n",
              "    </tr>\n",
              "    <tr>\n",
              "      <th>3</th>\n",
              "      <td>M</td>\n",
              "      <td>0.440</td>\n",
              "      <td>0.365</td>\n",
              "      <td>0.125</td>\n",
              "      <td>0.5160</td>\n",
              "      <td>0.2155</td>\n",
              "      <td>0.1140</td>\n",
              "      <td>0.1550</td>\n",
              "      <td>10.0</td>\n",
              "    </tr>\n",
              "    <tr>\n",
              "      <th>4</th>\n",
              "      <td>I</td>\n",
              "      <td>0.330</td>\n",
              "      <td>0.255</td>\n",
              "      <td>0.080</td>\n",
              "      <td>0.2050</td>\n",
              "      <td>0.0895</td>\n",
              "      <td>0.0395</td>\n",
              "      <td>0.0550</td>\n",
              "      <td>7.0</td>\n",
              "    </tr>\n",
              "    <tr>\n",
              "      <th>...</th>\n",
              "      <td>...</td>\n",
              "      <td>...</td>\n",
              "      <td>...</td>\n",
              "      <td>...</td>\n",
              "      <td>...</td>\n",
              "      <td>...</td>\n",
              "      <td>...</td>\n",
              "      <td>...</td>\n",
              "      <td>...</td>\n",
              "    </tr>\n",
              "    <tr>\n",
              "      <th>4106</th>\n",
              "      <td>F</td>\n",
              "      <td>0.565</td>\n",
              "      <td>0.450</td>\n",
              "      <td>0.165</td>\n",
              "      <td>0.8870</td>\n",
              "      <td>0.3700</td>\n",
              "      <td>0.2390</td>\n",
              "      <td>0.2490</td>\n",
              "      <td>11.0</td>\n",
              "    </tr>\n",
              "    <tr>\n",
              "      <th>4107</th>\n",
              "      <td>I</td>\n",
              "      <td>0.590</td>\n",
              "      <td>0.440</td>\n",
              "      <td>0.135</td>\n",
              "      <td>0.9660</td>\n",
              "      <td>0.4390</td>\n",
              "      <td>0.2145</td>\n",
              "      <td>0.2605</td>\n",
              "      <td>10.0</td>\n",
              "    </tr>\n",
              "    <tr>\n",
              "      <th>4108</th>\n",
              "      <td>I</td>\n",
              "      <td>0.600</td>\n",
              "      <td>0.475</td>\n",
              "      <td>0.205</td>\n",
              "      <td>1.1760</td>\n",
              "      <td>0.5255</td>\n",
              "      <td>0.2875</td>\n",
              "      <td>0.3080</td>\n",
              "      <td>9.0</td>\n",
              "    </tr>\n",
              "    <tr>\n",
              "      <th>4109</th>\n",
              "      <td>M</td>\n",
              "      <td>0.625</td>\n",
              "      <td>0.485</td>\n",
              "      <td>0.150</td>\n",
              "      <td>1.0945</td>\n",
              "      <td>0.5310</td>\n",
              "      <td>0.2610</td>\n",
              "      <td>0.2960</td>\n",
              "      <td>10.0</td>\n",
              "    </tr>\n",
              "    <tr>\n",
              "      <th>4110</th>\n",
              "      <td>M</td>\n",
              "      <td>0.710</td>\n",
              "      <td>0.555</td>\n",
              "      <td>0.195</td>\n",
              "      <td>1.9485</td>\n",
              "      <td>0.9455</td>\n",
              "      <td>0.3765</td>\n",
              "      <td>0.4950</td>\n",
              "      <td>12.0</td>\n",
              "    </tr>\n",
              "  </tbody>\n",
              "</table>\n",
              "<p>4111 rows × 9 columns</p>\n",
              "</div>\n",
              "      <button class=\"colab-df-convert\" onclick=\"convertToInteractive('df-56530a7e-5a15-4df7-b6c4-a4f10d424766')\"\n",
              "              title=\"Convert this dataframe to an interactive table.\"\n",
              "              style=\"display:none;\">\n",
              "        \n",
              "  <svg xmlns=\"http://www.w3.org/2000/svg\" height=\"24px\"viewBox=\"0 0 24 24\"\n",
              "       width=\"24px\">\n",
              "    <path d=\"M0 0h24v24H0V0z\" fill=\"none\"/>\n",
              "    <path d=\"M18.56 5.44l.94 2.06.94-2.06 2.06-.94-2.06-.94-.94-2.06-.94 2.06-2.06.94zm-11 1L8.5 8.5l.94-2.06 2.06-.94-2.06-.94L8.5 2.5l-.94 2.06-2.06.94zm10 10l.94 2.06.94-2.06 2.06-.94-2.06-.94-.94-2.06-.94 2.06-2.06.94z\"/><path d=\"M17.41 7.96l-1.37-1.37c-.4-.4-.92-.59-1.43-.59-.52 0-1.04.2-1.43.59L10.3 9.45l-7.72 7.72c-.78.78-.78 2.05 0 2.83L4 21.41c.39.39.9.59 1.41.59.51 0 1.02-.2 1.41-.59l7.78-7.78 2.81-2.81c.8-.78.8-2.07 0-2.86zM5.41 20L4 18.59l7.72-7.72 1.47 1.35L5.41 20z\"/>\n",
              "  </svg>\n",
              "      </button>\n",
              "      \n",
              "  <style>\n",
              "    .colab-df-container {\n",
              "      display:flex;\n",
              "      flex-wrap:wrap;\n",
              "      gap: 12px;\n",
              "    }\n",
              "\n",
              "    .colab-df-convert {\n",
              "      background-color: #E8F0FE;\n",
              "      border: none;\n",
              "      border-radius: 50%;\n",
              "      cursor: pointer;\n",
              "      display: none;\n",
              "      fill: #1967D2;\n",
              "      height: 32px;\n",
              "      padding: 0 0 0 0;\n",
              "      width: 32px;\n",
              "    }\n",
              "\n",
              "    .colab-df-convert:hover {\n",
              "      background-color: #E2EBFA;\n",
              "      box-shadow: 0px 1px 2px rgba(60, 64, 67, 0.3), 0px 1px 3px 1px rgba(60, 64, 67, 0.15);\n",
              "      fill: #174EA6;\n",
              "    }\n",
              "\n",
              "    [theme=dark] .colab-df-convert {\n",
              "      background-color: #3B4455;\n",
              "      fill: #D2E3FC;\n",
              "    }\n",
              "\n",
              "    [theme=dark] .colab-df-convert:hover {\n",
              "      background-color: #434B5C;\n",
              "      box-shadow: 0px 1px 3px 1px rgba(0, 0, 0, 0.15);\n",
              "      filter: drop-shadow(0px 1px 2px rgba(0, 0, 0, 0.3));\n",
              "      fill: #FFFFFF;\n",
              "    }\n",
              "  </style>\n",
              "\n",
              "      <script>\n",
              "        const buttonEl =\n",
              "          document.querySelector('#df-56530a7e-5a15-4df7-b6c4-a4f10d424766 button.colab-df-convert');\n",
              "        buttonEl.style.display =\n",
              "          google.colab.kernel.accessAllowed ? 'block' : 'none';\n",
              "\n",
              "        async function convertToInteractive(key) {\n",
              "          const element = document.querySelector('#df-56530a7e-5a15-4df7-b6c4-a4f10d424766');\n",
              "          const dataTable =\n",
              "            await google.colab.kernel.invokeFunction('convertToInteractive',\n",
              "                                                     [key], {});\n",
              "          if (!dataTable) return;\n",
              "\n",
              "          const docLinkHtml = 'Like what you see? Visit the ' +\n",
              "            '<a target=\"_blank\" href=https://colab.research.google.com/notebooks/data_table.ipynb>data table notebook</a>'\n",
              "            + ' to learn more about interactive tables.';\n",
              "          element.innerHTML = '';\n",
              "          dataTable['output_type'] = 'display_data';\n",
              "          await google.colab.output.renderOutput(dataTable, element);\n",
              "          const docLink = document.createElement('div');\n",
              "          docLink.innerHTML = docLinkHtml;\n",
              "          element.appendChild(docLink);\n",
              "        }\n",
              "      </script>\n",
              "    </div>\n",
              "  </div>\n",
              "  "
            ]
          },
          "metadata": {},
          "execution_count": 69
        }
      ]
    },
    {
      "cell_type": "code",
      "source": [
        "\"\"\"\n",
        "  Um dos algoritmos que serão testados é o KNN, mas antes de usa-lo é necessário encontrar o valor mais adequado \n",
        "  para k. Dessa forma, para cada valor de K utilizamos o método de validação cruzada KFold e armazenamos a média dos\n",
        "  mse encontrados em cada folder. Então escolhemos o K que possui a menor média. \n",
        "\"\"\"\n",
        "\n",
        "#Criando uma cópia normalizada (e sem o Sex) de abalone\n",
        "abatest = abalone.copy()\n",
        "sex_col = abatest.pop('Sex')\n",
        "df_norm = (abatest - abatest.mean()) / abatest.std()\n",
        "\n",
        "erro_medio = []\n",
        "valores_k = []\n",
        "\n",
        "for k in range(1, 15):\n",
        "    valores_k.append(k)\n",
        "    erros = []\n",
        "\n",
        "    kf = KFold(n_splits=10, shuffle=True)\n",
        "    splits = kf.split(df_norm)\n",
        "\n",
        "    for train_index, test_index in splits:\n",
        "        train_df, test_df = df_norm.iloc[train_index], df_norm.iloc[test_index]\n",
        "\n",
        "        #Armazenando os valores de Rings antes de substitui-los por NAN\n",
        "        test_df = pd.DataFrame(test_df)\n",
        "        true_rings = test_df['Rings']\n",
        "        test_df['Rings'] = np.nan\n",
        "\n",
        "        #Separando em variável dependente e independente\n",
        "        X_train = train_df.drop(['Rings'], axis=1)\n",
        "        y_train = train_df['Rings']\n",
        "        X_test = test_df.drop(['Rings'], axis=1)\n",
        "\n",
        "        #Previsão usando KNN\n",
        "        knn = KNeighborsRegressor(n_neighbors=k)\n",
        "        knn.fit(X_train, y_train)\n",
        "        y_pred = knn.predict(X_test)\n",
        "\n",
        "        true_rings = (true_rings * abatest.Rings.std()) + abatest.Rings.mean()\n",
        "        y_pred = (y_pred * abatest.Rings.std()) + abatest.Rings.mean()\n",
        "\n",
        "        mse = mean_squared_error(true_rings, y_pred)\n",
        "        erros.append(mse)\n",
        "        \n",
        "    erro_medio.append(np.mean(erros))\n",
        "\n",
        "melhor_k = erro_medio.index(min(erro_medio))+1\n",
        "print(f\"Melhor quantidade de vizinhos: {melhor_k}\\n\")\n",
        "plt.plot(valores_k, erro_medio)\n",
        "plt.xticks(range(len(erro_medio)), range(1, len(erro_medio)+1))\n",
        "plt.title(\"Média do Erro Quadrático Médio do KNN\")\n",
        "plt.xlabel(\"K\")\n",
        "plt.ylabel(\"Erro Quadrático Médio\")\n",
        "plt.show()"
      ],
      "metadata": {
        "colab": {
          "base_uri": "https://localhost:8080/",
          "height": 507
        },
        "id": "VcTDf3VvFTxn",
        "outputId": "ad4b0213-3426-4d78-d6e6-1ea866e5fc26"
      },
      "execution_count": null,
      "outputs": [
        {
          "output_type": "stream",
          "name": "stdout",
          "text": [
            "Melhor quantidade de vizinhos: 14\n",
            "\n"
          ]
        },
        {
          "output_type": "display_data",
          "data": {
            "text/plain": [
              "<Figure size 640x480 with 1 Axes>"
            ],
            "image/png": "[encoded data removed]"
          },
          "metadata": {}
        }
      ]
    },
    {
      "cell_type": "code",
      "source": [
        "def avaliarModelo(df, k):\n",
        "    \"\"\"\n",
        "    Avalia os modelos de KNN e Regressão Linear Multivariada, retornando o mse médio\n",
        "    e o erro médio em porcentagem de ambos os modelos.\n",
        "    \"\"\"\n",
        "\n",
        "    df_norm = (df - df.mean()) / df.std()\n",
        "\n",
        "    kf = KFold(n_splits=10, shuffle=True)\n",
        "    splits = kf.split(df_norm)\n",
        "\n",
        "    erro_medio_percent_list_knn = []\n",
        "    erro_medio_percent_list_reg = []\n",
        "    mse_list_knn = []\n",
        "    mse_list_reg = []\n",
        "\n",
        "    for train_index, test_index in splits:\n",
        "        train_df, test_df = df_norm.iloc[train_index], df_norm.iloc[test_index]\n",
        "\n",
        "        #Armazenando os valores de Rings antes de substitui-los por NAN\n",
        "        test_df = pd.DataFrame(test_df)\n",
        "        true_rings = test_df['Rings']\n",
        "        test_df['Rings'] = np.nan\n",
        "\n",
        "        #Separando em variável dependente e independente\n",
        "        X_train = train_df.drop(['Rings'], axis=1)\n",
        "        y_train = train_df['Rings']\n",
        "        X_test = test_df.drop(['Rings'], axis=1)\n",
        "\n",
        "        #Previsão usando KNN\n",
        "        knn = KNeighborsRegressor(n_neighbors=k)\n",
        "        knn.fit(X_train, y_train)\n",
        "        y_pred_knn = knn.predict(X_test)\n",
        "\n",
        "        #Previsão usando Regressão Linear Multivariada\n",
        "        regr = LinearRegression()\n",
        "        regr.fit(X_train, y_train)\n",
        "        y_pred_reg = regr.predict(X_test)\n",
        "\n",
        "        #Voltando a medida original de rings\n",
        "        true_rings = (true_rings * df.Rings.std()) + df.Rings.mean()\n",
        "        y_pred_knn = (y_pred_knn * df.Rings.std()) + df.Rings.mean()\n",
        "        y_pred_reg = (y_pred_reg * df.Rings.std()) + df.Rings.mean()\n",
        "\n",
        "        #Calculando o mse\n",
        "        mse_knn = mean_squared_error(true_rings, y_pred_knn)\n",
        "        mse_list_knn.append(mse_knn)\n",
        "        mse_reg = mean_squared_error(true_rings, y_pred_reg)\n",
        "        mse_list_reg.append(mse_reg)\n",
        "\n",
        "        #Erro do valor previsto em relação ao original (em módulo)\n",
        "        variacao_knn = np.abs(true_rings - y_pred_knn)\n",
        "        variacao_reg = np.abs(true_rings - y_pred_reg)\n",
        "\n",
        "        #Porcentagem de erro em relação ao valor original\n",
        "        erros_em_porcent_knn = (variacao_knn / true_rings)\n",
        "        erros_em_porcent_reg = (variacao_reg / true_rings)\n",
        "\n",
        "        #Calculando o erro médio percentual\n",
        "        mean_error_percent_knn = np.mean(erros_em_porcent_knn)\n",
        "        erro_medio_percent_list_knn.append(mean_error_percent_knn)\n",
        "        mean_error_percent_reg = np.mean(erros_em_porcent_reg)\n",
        "        erro_medio_percent_list_reg.append(mean_error_percent_reg)\n",
        "\n",
        "    mse_knn_final = np.mean(mse_list_knn)\n",
        "    erro_percentual_knn = np.mean(erro_medio_percent_list_knn)\n",
        "    mse_reg_final = np.mean(mse_list_reg)\n",
        "    erro_percentual_reg = np.mean(erro_medio_percent_list_reg)\n",
        "\n",
        "    return [mse_knn_final, erro_percentual_knn, mse_reg_final, erro_percentual_reg]\n"
      ],
      "metadata": {
        "id": "Q3vVXDo16Tbb"
      },
      "execution_count": null,
      "outputs": []
    },
    {
      "cell_type": "code",
      "source": [
        "def printarAvaliacao(df):\n",
        "    modelo_avaliado = avaliarModelo(df=df, k=melhor_k)\n",
        "    print(\"AVALIAÇÃO DO MODELO KNN:\")\n",
        "    print(f\"Média de mse: {modelo_avaliado[0]:.4f}\")\n",
        "    print(f\"Erro médio percentual: {modelo_avaliado[1]:.4f}\\n\")\n",
        "    print(\"AVALIAÇÃO DO MODELO DE REGRESSÃO LINEAR MULTIVARIADA:\")\n",
        "    print(f\"Média de mse: {modelo_avaliado[2]:.4f}\")\n",
        "    print(f\"Erro médio percentual: {modelo_avaliado[3]:.4f}\")"
      ],
      "metadata": {
        "id": "aL_cZNRo8PnW"
      },
      "execution_count": null,
      "outputs": []
    },
    {
      "cell_type": "code",
      "source": [
        "\"\"\"\n",
        "  Para a avaliação dos algoritmos utilizamos o MSE, por sua capacidade de medir a proximidade entre os valores previstos e os valores reais. \n",
        "  O MSE penaliza de forma mais significativa os erros maiores, permitindo uma avaliação mais precisa do desempenho do modelo. Além disso, para\n",
        "  uma avaliação mais intuitiva utilizamos também a média do erro em porcentagem.\n",
        "  Avaliando os modelos depois de retirar a coluna Sex obtivemos um bom desempenho em ambos os modelos utilizados, \n",
        "  com uma diferença tão pequena que não é possivél leva-la em consideração na escolha do melhor modelo.\n",
        "\"\"\"\n",
        "abatest = abalone.copy()\n",
        "sex_col = abatest.pop('Sex')\n",
        "printarAvaliacao(abatest)"
      ],
      "metadata": {
        "colab": {
          "base_uri": "https://localhost:8080/"
        },
        "id": "6rhrCVglXgbg",
        "outputId": "33358988-bfe2-4c5f-e430-cd33406c0740"
      },
      "execution_count": null,
      "outputs": [
        {
          "output_type": "stream",
          "name": "stdout",
          "text": [
            "AVALIAÇÃO DO MODELO KNN:\n",
            "Média de mse: 4.8287\n",
            "Erro médio percentual: 0.1525\n",
            "\n",
            "AVALIAÇÃO DO MODELO DE REGRESSÃO LINEAR MULTIVARIADA:\n",
            "Média de mse: 5.0690\n",
            "Erro médio percentual: 0.1633\n"
          ]
        }
      ]
    },
    {
      "cell_type": "code",
      "source": [
        "\"\"\"\n",
        "  Tentamos utilizar o método de OneHotEncoder para podermos utilizar a coluna Sex no treinamento dos modelos, de forma\n",
        "  que esse dado, antes catégórico, tenha o menor viés possivel. Para o KNN, o desempenho teve uma piora (ainda que pequena),\n",
        "  já para a regressão linear praticamente não surtiu efeito.\n",
        "\"\"\"\n",
        "\n",
        "abatest = abalone.copy()\n",
        "\n",
        "sex_values = abalone['Sex'].values.reshape(-1, 1)\n",
        "sex_col = abatest.pop('Sex')\n",
        "#Criando 3 colunas binárias, uma para cada valor possível de Sex\n",
        "onehot_encoder = OneHotEncoder(sparse_output=False)\n",
        "onehot_encoded = onehot_encoder.fit_transform(sex_values)\n",
        "#Adicionando as novas colunas ao dataframe\n",
        "sex_columns = ['Sex_M', 'Sex_F', 'Sex_I']\n",
        "sex_df = pd.DataFrame(onehot_encoded, columns=sex_columns)\n",
        "abatest = pd.concat([abatest, sex_df], axis=1)\n",
        "\n",
        "printarAvaliacao(abatest)"
      ],
      "metadata": {
        "colab": {
          "base_uri": "https://localhost:8080/"
        },
        "id": "A1q9dh9HZ8du",
        "outputId": "aa0f3dad-643f-4983-eaa5-55d96e8a8512"
      },
      "execution_count": null,
      "outputs": [
        {
          "output_type": "stream",
          "name": "stdout",
          "text": [
            "AVALIAÇÃO DO MODELO KNN:\n",
            "Média de mse: 4.9588\n",
            "Erro médio percentual: 0.1539\n",
            "\n",
            "AVALIAÇÃO DO MODELO DE REGRESSÃO LINEAR MULTIVARIADA:\n",
            "Média de mse: 5.0684\n",
            "Erro médio percentual: 0.1625\n"
          ]
        }
      ]
    },
    {
      "cell_type": "code",
      "source": [
        "#Mapa de calor das correlações entre as variáveis.\n",
        "sns.heatmap(abalone.corr(), fmt=\".2f\", annot=True, center=0.0)"
      ],
      "metadata": {
        "colab": {
          "base_uri": "https://localhost:8080/",
          "height": 603
        },
        "id": "uVm9TCX-ssxw",
        "outputId": "ec7a5f03-e61b-45ff-b481-87a60fec17e9"
      },
      "execution_count": null,
      "outputs": [
        {
          "output_type": "stream",
          "name": "stderr",
          "text": [
            "<ipython-input-32-2088b29efd5a>:2: FutureWarning: The default value of numeric_only in DataFrame.corr is deprecated. In a future version, it will default to False. Select only valid columns or specify the value of numeric_only to silence this warning.\n",
            "  sns.heatmap(abalone.corr(), fmt=\".2f\", annot=True, center=0.0)\n"
          ]
        },
        {
          "output_type": "execute_result",
          "data": {
            "text/plain": [
              "<Axes: >"
            ]
          },
          "metadata": {},
          "execution_count": 32
        },
        {
          "output_type": "display_data",
          "data": {
            "text/plain": [
              "<Figure size 640x480 with 2 Axes>"
            ],
            "image/png": "[encoded data removed]"
          },
          "metadata": {}
        }
      ]
    },
    {
      "cell_type": "code",
      "source": [
        "\"\"\"\n",
        "    Na busca de diminuir os dados necessários para realizar a previsão de Rings, decidimos tentar reduzir a\n",
        "  dimensionalidade da base. Analizando os atributos, percebemos eles se dividem em dois sub-grupos: Dimensões e Peso.\n",
        "    Começando pela dimensão, notamos que Length e Diameter possuem uma alta correlação linear pelo fato de um estar\n",
        "  diretamente contido no outro, tornando dispensável um dos atributos. Assim, mantivemos Diameter por ter uma\n",
        "  correlação um pouco maior com Rings.\n",
        "    Nos atributos relacionados com peso sabemos que Whole Wheight deve ser aproximadamente a soma de todos os outros\n",
        "  pesos, portanto não é necessário mante-los. \n",
        "    Após essa filtragem, permanecemos com Diameter, Height, Whole weight e Rings. \n",
        "\"\"\"\n",
        "\n",
        "colunas_filtradas = ['Diameter', 'Whole weight', 'Height', 'Rings']\n",
        "abatest = abalone.copy()\n",
        "novo_dataframe = abatest[colunas_filtradas]\n",
        "printarAvaliacao(novo_dataframe)"
      ],
      "metadata": {
        "colab": {
          "base_uri": "https://localhost:8080/"
        },
        "id": "sR6kHjF6rJ_9",
        "outputId": "bfce07d5-b799-4da8-ba95-0a3f4d401433"
      },
      "execution_count": null,
      "outputs": [
        {
          "output_type": "stream",
          "name": "stdout",
          "text": [
            "AVALIAÇÃO DO MODELO KNN:\n",
            "Média de mse: 6.4946\n",
            "Erro médio percentual: 0.1799\n",
            "\n",
            "AVALIAÇÃO DO MODELO DE REGRESSÃO LINEAR MULTIVARIADA:\n",
            "Média de mse: 6.8910\n",
            "Erro médio percentual: 0.1839\n"
          ]
        }
      ]
    },
    {
      "cell_type": "code",
      "source": [
        "\"\"\"\n",
        "  A redução de dimensionalidade causou uma leve redução da precisão do modelo. Em contrapartida, além de diminuirmos\n",
        "  o trabalho manual de coleta das informações e o custo computacional de treinamento do modelo de previsão, os atributos \n",
        "  necessários não necessitam da morte do animal, tornandoa abordagem em geral mais sustentável.\n",
        "\"\"\""
      ],
      "metadata": {
        "id": "e2smBayBBdGG"
      },
      "execution_count": null,
      "outputs": []
    },
    {
      "cell_type": "code",
      "source": [
        "\"\"\"\n",
        "  Depois de analisar de várias formas os dois modelos (KNN e Regressão Linear Multivariada), não conseguimos escolher um modelo baseado apenas nas\n",
        "  avaliações dos modelos, dessa forma, decidimos optar pelo modelo mais de mais fácil explicação, sendo este a Regressão Linear Multivariada. \n",
        "  Com ela podemos ter uma melhor visualisação (utilizando um mapa de calor, por exemplo) da influência de cada característica na variável Rings, além \n",
        "  de conseguirmos parametrizar essa influência em uma reta que será usada para as previsões. O erro esperado para o rings previsto nesse modelo é de\n",
        "  aproximadamente 20% em relação ao numero real.\n",
        "\"\"\""
      ],
      "metadata": {
        "id": "glRN0hQt3rPY"
      },
      "execution_count": null,
      "outputs": []
    },
    {
      "cell_type": "code",
      "source": [
        "def retaRegressao(df):\n",
        "    \"\"\"\n",
        "    Avalia o modelo de Regressão Linear Multivariada, retornando os coeficientes médios.\n",
        "    \"\"\"\n",
        "\n",
        "    df_norm = (df - df.mean()) / df.std()\n",
        "\n",
        "    kf = KFold(n_splits=10, shuffle=True)\n",
        "    splits = kf.split(df_norm)\n",
        "\n",
        "    coef_list_reg = []\n",
        "\n",
        "    for train_index, test_index in splits:\n",
        "        train_df, test_df = df_norm.iloc[train_index], df_norm.iloc[test_index]\n",
        "\n",
        "        #Separando em variável dependente e independente\n",
        "        X_train = train_df.drop(['Rings'], axis=1)\n",
        "        y_train = train_df['Rings']\n",
        "        X_test = test_df.drop(['Rings'], axis=1)\n",
        "\n",
        "        #Previsão usando Regressão Linear Multivariada\n",
        "        regr = LinearRegression()\n",
        "        regr.fit(X_train, y_train)\n",
        "\n",
        "        #Coeficientes da reta de regressão\n",
        "        coef_list_reg.append(list(regr.coef_) + [regr.intercept_])\n",
        "\n",
        "    #Coeficientes médios\n",
        "    avg_coef_reg = np.mean(coef_list_reg, axis=0)\n",
        "\n",
        "    return avg_coef_reg\n",
        "\n",
        "\n",
        "\n",
        "def obterEquacaoReta(coeficientes, columns):\n",
        "    \"\"\"\n",
        "    Retorna o texto com a equação da reta.\n",
        "    \"\"\"\n",
        "\n",
        "    equation = \"y = \"\n",
        "    for i, coef in enumerate(coeficientes[:-1]):\n",
        "        equation += f\"{coef:.2f}*{columns[i]} + \"\n",
        "    \n",
        "    #Adiciona o coeficiente linear\n",
        "    equation += f\"{coeficientes[-1]:.4f}\"  \n",
        "    \n",
        "    return equation"
      ],
      "metadata": {
        "id": "LuEC1LwnDFmd"
      },
      "execution_count": null,
      "outputs": []
    },
    {
      "cell_type": "code",
      "source": [
        "\"\"\"\n",
        "  Obtendo a reta de regressão usando apensas as colunas filtradas.\n",
        "\"\"\"\n",
        "colunas_filtradas = ['Diameter', 'Whole weight', 'Height', 'Rings']\n",
        "abalone = abalone[colunas_filtradas]\n",
        "coeficientes = retaRegressao(abalone)\n",
        "print(obterEquacaoReta(coeficientes, colunas_filtradas))"
      ],
      "metadata": {
        "colab": {
          "base_uri": "https://localhost:8080/"
        },
        "id": "2Lvehf6kE1IC",
        "outputId": "ff354cf6-e8e3-4ca5-e191-9f48912beed7"
      },
      "execution_count": null,
      "outputs": [
        {
          "output_type": "stream",
          "name": "stdout",
          "text": [
            "y = 0.40*Diameter + -0.07*Whole weight + 0.28*Height + 0.0002\n"
          ]
        }
      ]
    },
    {
      "cell_type": "code",
      "source": [
        "def preverRings(Diameter, WholeWeight, Height, coeficientes, df):\n",
        "    \"\"\"\n",
        "    Prever o valor de Rings com base nos coeficientes obtidos da regressão linear multivariada,\n",
        "    retornando o valor na medida original.\n",
        "    \"\"\"\n",
        "\n",
        "    #Aplicar a transformação nos dados de entrada\n",
        "    Diameter_norm = (Diameter - df['Diameter'].mean()) / df['Diameter'].std()\n",
        "    WholeWeight_norm = (WholeWeight - df['Whole weight'].mean()) / df['Whole weight'].std()\n",
        "    Height_norm = (Height - df['Height'].mean()) / df['Height'].std()\n",
        "\n",
        "    #Calcular a previsão usando os coeficientes normalizados\n",
        "    Rings_norm = coeficientes[0] * Diameter_norm + coeficientes[1] * WholeWeight_norm + coeficientes[2] * Height_norm\n",
        "\n",
        "    #Desfazer a transformação para obter o valor na medida original\n",
        "    Rings = (Rings_norm * df['Rings'].std()) + df['Rings'].mean()\n",
        "\n",
        "    return Rings"
      ],
      "metadata": {
        "id": "fHfgvky4JAku"
      },
      "execution_count": null,
      "outputs": []
    },
    {
      "cell_type": "code",
      "source": [
        "\"\"\"\n",
        "  Testando a previsão usando o modelo escolhido.\n",
        "\"\"\"\n",
        "\n",
        "indice = abalone.sample().index[0]\n",
        "dados = abalone.loc[indice, ['Diameter', 'Whole weight', 'Height']]\n",
        "previsao = preverRings(dados['Diameter'], dados['Whole weight'], dados['Height'], coeficientes, abalone)\n",
        "\n",
        "print(\"Real:\", abalone.loc[indice, \"Rings\"])\n",
        "print(\"Previsto:\", previsao.round(2))"
      ],
      "metadata": {
        "colab": {
          "base_uri": "https://localhost:8080/"
        },
        "id": "_44h8pVeN2Xl",
        "outputId": "d4d1b607-4cb7-4bea-be10-d8216bbc23ad"
      },
      "execution_count": null,
      "outputs": [
        {
          "output_type": "stream",
          "name": "stdout",
          "text": [
            "Real: 12.0\n",
            "Previsto: 12.38\n"
          ]
        }
      ]
    }
  ]
}